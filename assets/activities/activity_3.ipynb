{
  "cells": [
    {
      "cell_type": "markdown",
      "id": "26550237-15cd-45e2-81e1-556bad05a917",
      "metadata": {
        "id": "26550237-15cd-45e2-81e1-556bad05a917"
      },
      "source": [
        "# Activity 3: Practicing with Pandas"
      ]
    },
    {
      "cell_type": "markdown",
      "id": "4765796a-69ae-4a80-9529-2843912df581",
      "metadata": {
        "id": "4765796a-69ae-4a80-9529-2843912df581"
      },
      "source": [
        "For this activity, we will assume the role of a data scientist in the search for and evaluation of public datasets. In turn, pay close attention to the dataset you choose for counter narratives or nonapparent political values, gaps or underrepresented perspectives.\n",
        "\n",
        "Please make sure you open this file in Jupyter Notebook or Google Colab -- you will have to either open Jupyter Notebook first or upload the file to Google Colab before being able to edit the file.\n",
        "\n",
        "Please make sure you **print your output.** You may need to use ```print``` for your output to be displayed.\n",
        "\n",
        "-----\n",
        "## Submission Instructions\n",
        "1. Upload the completed activity to the \"Activities\" folder of your GitHub Portfolio;\n",
        "2. Ensure your submission consists of two files: <br/>(a) one single-page reflection in markdown (e.g. `a3_reflection.md`);  <br/>(b) one Jupyter notebook with completed responses to each activity step (e.g. `a3_pandas.ipynb`)."
      ]
    },
    {
      "cell_type": "markdown",
      "id": "b87c910a-66ee-4166-9737-546b68d3e61e",
      "metadata": {
        "id": "b87c910a-66ee-4166-9737-546b68d3e61e"
      },
      "source": [
        "## Data biography: Trans-Atlantic Slave Trade dataset\n",
        "\n",
        "To complete the assignment, please make sure you download the dataset from where it hosted on our GitHub: [Trans-Atlantic-Slave-Trade_Americas.csv](https://github.com/zmuhls/ccny-data-science/blob/main/assets/datasets/Trans-Atlantic-Slave-Trade_Americas.csv)"
      ]
    },
    {
      "cell_type": "markdown",
      "id": "8749ea10-27e1-4210-b638-abe62a45f609",
      "metadata": {
        "id": "8749ea10-27e1-4210-b638-abe62a45f609"
      },
      "source": [
        "## Data Biography (1-2 Paragraphs)\n",
        "\n",
        "Before you begin your exploration, you will provide a short data biography (1 - 2 paragraphs) on the dataset that addresses **where the data came from, who collected it, and the original intention(s) for its collection.**\n",
        "\n",
        "You may find the following sources useful for your research:\n",
        "* [Slave Voyages' Trans-Atlantic Slave Trade methodology](https://www.slavevoyages.org/voyage/about#methodology/introduction/0/en/)\n",
        "    * You may find the sections: Introduction, Coverage of the Slave Trade, and Nature of Sources particularly useful.\n",
        "* [Slave Voyages' About](https://www.slavevoyages.org/about/about#)\n",
        "* [Jamelle Bouie's We Still Can’t See American Slavery for What It Was](https://csc10800.github.io/assets/pdf/Bouie_we_still_cant_see_american_slavery_for_what_it_is.pdf)"
      ]
    },
    {
      "cell_type": "markdown",
      "id": "a40ee643-dbe8-4059-8953-95c11f938235",
      "metadata": {
        "jp-MarkdownHeadingCollapsed": true,
        "id": "a40ee643-dbe8-4059-8953-95c11f938235"
      },
      "source": [
        "**Enclose Data Biography below (1-2 Paragraph)**:\n"
      ]
    },
    {
      "cell_type": "markdown",
      "id": "1dc86a86-51b2-4bcf-8ad4-18901364e363",
      "metadata": {
        "id": "1dc86a86-51b2-4bcf-8ad4-18901364e363"
      },
      "source": [
        "-----"
      ]
    },
    {
      "cell_type": "markdown",
      "id": "4769c8e1-a906-4f5d-9b34-0ab30e613d81",
      "metadata": {
        "id": "4769c8e1-a906-4f5d-9b34-0ab30e613d81"
      },
      "source": [
        "## Download and explore dataset\n",
        "\n",
        "As we have been practicing in class, the questions that follow will require you to consider what output you will need before running the appropriate python codes.\n",
        "\n",
        "To ensure your code runs, please remember to load ```pandas``` and the ```Trans-Atlantic-Slave-Trade_Americas.csv``` file into the jupyter notebook environment.\n",
        "\n",
        "If you are running this on Google Colab, please make sure you connect your google drive with your Colab notebook first before attempting the exercise:\n",
        "```\n",
        "from google.colab import drive\n",
        "drive.mount('/content/drive')\n",
        "```"
      ]
    },
    {
      "cell_type": "code",
      "execution_count": null,
      "id": "c79198e7-340c-4f70-bdb6-4bc50750a6f3",
      "metadata": {
        "id": "c79198e7-340c-4f70-bdb6-4bc50750a6f3"
      },
      "outputs": [],
      "source": [
        "# Your code here"
      ]
    },
    {
      "cell_type": "markdown",
      "id": "1dd42939-8b33-40be-9633-877c4142dcdb",
      "metadata": {
        "id": "1dd42939-8b33-40be-9633-877c4142dcdb"
      },
      "source": [
        "### 2. How many rows of data does the dataset contain?</br>\n",
        "In this first step, you’ll load the dataset and examine its structure. Loading data is foundational in data science and digital humanities workflows. You’ll use the `pandas` library to read a CSV file and display its first few rows.</br>\n",
        "* **Hint**: See Melanie Walsh's chapter on Pandas Basics if you're stuck: [Pandas Basics – Part 1](https://melaniewalsh.github.io/Intro-Cultural-Analytics/03-Data-Analysis/01-Pandas-Basics-Part1.html)).\n",
        "\n"
      ]
    },
    {
      "cell_type": "code",
      "execution_count": null,
      "id": "a3afd56e-4d46-4d01-be8b-a65380a1f681",
      "metadata": {
        "id": "a3afd56e-4d46-4d01-be8b-a65380a1f681"
      },
      "outputs": [],
      "source": [
        "# Your code here"
      ]
    },
    {
      "cell_type": "markdown",
      "id": "91143422-e360-4be0-8bae-afd42d835260",
      "metadata": {
        "id": "91143422-e360-4be0-8bae-afd42d835260"
      },
      "source": [
        "**Double click to edit cell**     \n",
        "`Please type your answer here`\n",
        "</br>\n",
        "</br>\n",
        "</br>\n",
        "\n",
        "---\n"
      ]
    },
    {
      "cell_type": "markdown",
      "id": "141f7b97-6853-4382-9bca-12be87c446b3",
      "metadata": {
        "id": "141f7b97-6853-4382-9bca-12be87c446b3"
      },
      "source": [
        "### 3. Are the data types for each column appropriate? Please explain how they are/not approrpiate for your analysis."
      ]
    },
    {
      "cell_type": "markdown",
      "id": "bab74918-52ee-4c6d-80da-b7370081e52d",
      "metadata": {
        "id": "bab74918-52ee-4c6d-80da-b7370081e52d"
      },
      "source": [
        "**Double click to edit cell**     \n",
        "`Please type your answer here`\n",
        "</br>\n",
        "</br>\n",
        "</br>\n",
        "\n",
        "---\n"
      ]
    },
    {
      "cell_type": "markdown",
      "id": "37658740-c9ca-465f-a3d0-a33da65ecb91",
      "metadata": {
        "id": "37658740-c9ca-465f-a3d0-a33da65ecb91"
      },
      "source": [
        "### 4. What is the overall average proportion of ```percent_women```, ```percent_children```, ```percent_men```?"
      ]
    },
    {
      "cell_type": "code",
      "execution_count": null,
      "id": "a3b3b700-8339-49c2-9ca1-f35858f86e7e",
      "metadata": {
        "id": "a3b3b700-8339-49c2-9ca1-f35858f86e7e"
      },
      "outputs": [],
      "source": [
        "# Your code here"
      ]
    },
    {
      "cell_type": "markdown",
      "id": "b4e966c1-1247-4cbc-9a74-0553469d9beb",
      "metadata": {
        "id": "b4e966c1-1247-4cbc-9a74-0553469d9beb"
      },
      "source": [
        "**Double click to edit cell**     \n",
        "`Please type your answer here`\n",
        "</br>\n",
        "</br>\n",
        "</br>\n",
        "\n",
        "\n",
        "---\n"
      ]
    },
    {
      "cell_type": "markdown",
      "id": "8b2269c7-c46c-44bb-8333-1d8ba9022a61",
      "metadata": {
        "id": "8b2269c7-c46c-44bb-8333-1d8ba9022a61"
      },
      "source": [
        "### 5. How many of the column values for ```percent_women```, ```percent_children```, ```percent_men``` are left blank? Suggest 1 reason why majority of the values in these columns are blank."
      ]
    },
    {
      "cell_type": "code",
      "execution_count": null,
      "id": "a224a0e4-0e56-40f9-aa41-094882deb499",
      "metadata": {
        "id": "a224a0e4-0e56-40f9-aa41-094882deb499"
      },
      "outputs": [],
      "source": [
        "#Your code here"
      ]
    },
    {
      "cell_type": "markdown",
      "id": "23d4de2a-aa0d-4165-bac4-1b53a8ee2030",
      "metadata": {
        "id": "23d4de2a-aa0d-4165-bac4-1b53a8ee2030"
      },
      "source": [
        "**Double click to edit cell**     \n",
        "`Please type your answer here`\n",
        "</br>\n",
        "</br>\n",
        "</br>\n",
        "\n",
        "---\n"
      ]
    },
    {
      "cell_type": "markdown",
      "id": "43584358-9a8f-45a5-8383-5bf823d8c9be",
      "metadata": {
        "id": "43584358-9a8f-45a5-8383-5bf823d8c9be"
      },
      "source": [
        "### 6. Display all duplicated rows and remove the duplicates. Check that the duplicates were successfully removed. Please also suggest a reason why we would remove duplicates for our analysis.\n",
        "\n",
        "**Level-up**: How many duplicated rows do we have? Recall the methods we have used to help us count things."
      ]
    },
    {
      "cell_type": "code",
      "execution_count": null,
      "id": "6fffb099-3bb0-47d9-a75b-d5255d89ab7a",
      "metadata": {
        "id": "6fffb099-3bb0-47d9-a75b-d5255d89ab7a"
      },
      "outputs": [],
      "source": [
        "#Your code here"
      ]
    },
    {
      "cell_type": "markdown",
      "id": "301e9714-6ce7-44cf-8bef-d497b30f511d",
      "metadata": {
        "id": "301e9714-6ce7-44cf-8bef-d497b30f511d"
      },
      "source": [
        "**Double click to edit cell**     \n",
        "`Please type your answer here`\n",
        "</br>\n",
        "</br>\n",
        "</br>\n",
        "\n",
        "\n",
        "---\n"
      ]
    },
    {
      "cell_type": "markdown",
      "id": "7ff8bfcd-4573-43a4-b58c-fb6d48516720",
      "metadata": {
        "id": "7ff8bfcd-4573-43a4-b58c-fb6d48516720"
      },
      "source": [
        "### 7. Please identify the **top 5 most common ports of arrival**.\n",
        "\n",
        "**Hint:** Check the columns ```place_of_landing```."
      ]
    },
    {
      "cell_type": "code",
      "execution_count": null,
      "id": "56a1e1aa-7fb3-497c-8055-bd1a5deca2f7",
      "metadata": {
        "id": "56a1e1aa-7fb3-497c-8055-bd1a5deca2f7"
      },
      "outputs": [],
      "source": [
        "#Your code here"
      ]
    },
    {
      "cell_type": "markdown",
      "id": "9bbe0198-c9b1-4527-9b3d-a09724730c4b",
      "metadata": {
        "id": "9bbe0198-c9b1-4527-9b3d-a09724730c4b"
      },
      "source": [
        "**Double click to edit cell**     \n",
        "`Please type your answer here`\n",
        "</br>\n",
        "</br>\n",
        "</br>\n",
        "\n",
        "---\n"
      ]
    },
    {
      "cell_type": "markdown",
      "id": "c19dd975-9347-41f5-86e8-992b7bd26591",
      "metadata": {
        "id": "c19dd975-9347-41f5-86e8-992b7bd26591"
      },
      "source": [
        "### 8. Please plot the **top 5 enslavers/captors** from this dataset. Please choose the appropriate visualization (e.g. pie chart, bar chart) to display your finding."
      ]
    },
    {
      "cell_type": "code",
      "execution_count": null,
      "id": "ab225554-bc39-4841-ac90-26ddca5cae0f",
      "metadata": {
        "id": "ab225554-bc39-4841-ac90-26ddca5cae0f"
      },
      "outputs": [],
      "source": [
        "#Your code here"
      ]
    },
    {
      "cell_type": "markdown",
      "id": "30b9934a-80f7-495e-bcb8-3210c57ce3a7",
      "metadata": {
        "id": "30b9934a-80f7-495e-bcb8-3210c57ce3a7"
      },
      "source": [
        "-----"
      ]
    },
    {
      "cell_type": "markdown",
      "id": "7e04fc1a-4956-4f0e-a90b-c5b2e1f66199",
      "metadata": {
        "id": "7e04fc1a-4956-4f0e-a90b-c5b2e1f66199"
      },
      "source": [
        "### 9. Having briefly explored the dataset, what further questions have emerged as you explored this dataset?    \n",
        "\n",
        "Please share your thoughts in a few sentences."
      ]
    },
    {
      "cell_type": "markdown",
      "id": "28712b05-f6a8-4a12-897c-949f96aaa466",
      "metadata": {
        "id": "28712b05-f6a8-4a12-897c-949f96aaa466"
      },
      "source": [
        "**Double click to edit cell**     \n",
        "`Please type your answer here`\n",
        "</br>\n",
        "</br>\n",
        "</br>\n",
        "\n"
      ]
    },
    {
      "cell_type": "markdown",
      "id": "2721385e-5112-4bd0-a3da-deb1f793405a",
      "metadata": {
        "id": "2721385e-5112-4bd0-a3da-deb1f793405a"
      },
      "source": [
        "-----\n",
        "-----\n"
      ]
    },
    {
      "cell_type": "markdown",
      "id": "95ee26ad-cefa-4f9e-9e9f-6a635fb8900a",
      "metadata": {
        "id": "95ee26ad-cefa-4f9e-9e9f-6a635fb8900a"
      },
      "source": [
        "## Side quest challenge\n",
        "\n",
        "The side quest challenge is for extra credit. You can still get full credit for this activity even if you do not complete this challenge."
      ]
    },
    {
      "cell_type": "markdown",
      "id": "7699e2e7-deb7-411a-907b-e0b6760d3e14",
      "metadata": {
        "id": "7699e2e7-deb7-411a-907b-e0b6760d3e14"
      },
      "source": [
        "### 1. Which enslaver/captor had the highest difference between the total number of people who embarked and disembarked?\n",
        "\n",
        "**Hint:** You may need to [add a column](https://github.com/GCDigitalFellows/intro-pandas-dri-2022/blob/main/README.md#8-rename-select-drop-and-add-new-columns) to calculate the difference, use the [```.groupby```, ```.count()``` and ```.sort_values``` methods](https://github.com/GCDigitalFellows/intro-pandas-dri-2022/blob/main/README.md#9-sort-columns-groupby-columns--count-values) for this challenge."
      ]
    },
    {
      "cell_type": "code",
      "execution_count": null,
      "id": "f2f16094-80b6-4767-ba8e-a6b0784a63b6",
      "metadata": {
        "id": "f2f16094-80b6-4767-ba8e-a6b0784a63b6"
      },
      "outputs": [],
      "source": []
    },
    {
      "cell_type": "markdown",
      "id": "8a7e104a",
      "metadata": {
        "id": "8a7e104a"
      },
      "source": [
        "**Double click to edit cell**     \n",
        "`Please type your answer here`\n",
        "</br>\n",
        "</br>\n",
        "</br>\n",
        "\n",
        "---\n"
      ]
    }
  ],
  "metadata": {
    "kernelspec": {
      "display_name": "Python 3 (ipykernel)",
      "language": "python",
      "name": "python3"
    },
    "language_info": {
      "codemirror_mode": {
        "name": "ipython",
        "version": 3
      },
      "file_extension": ".py",
      "mimetype": "text/x-python",
      "name": "python",
      "nbconvert_exporter": "python",
      "pygments_lexer": "ipython3",
      "version": "3.11.5"
    },
    "colab": {
      "provenance": []
    }
  },
  "nbformat": 4,
  "nbformat_minor": 5
}